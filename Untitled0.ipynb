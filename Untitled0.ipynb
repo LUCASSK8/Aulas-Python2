{
  "nbformat": 4,
  "nbformat_minor": 0,
  "metadata": {
    "colab": {
      "provenance": [],
      "authorship_tag": "ABX9TyOZyGhLwO2a3iRyLsDcjDmy",
      "include_colab_link": true
    },
    "kernelspec": {
      "name": "python3",
      "display_name": "Python 3"
    },
    "language_info": {
      "name": "python"
    }
  },
  "cells": [
    {
      "cell_type": "markdown",
      "metadata": {
        "id": "view-in-github",
        "colab_type": "text"
      },
      "source": [
        "<a href=\"https://colab.research.google.com/github/LUCASSK8/Aulas-Python2/blob/main/Untitled0.ipynb\" target=\"_parent\"><img src=\"https://colab.research.google.com/assets/colab-badge.svg\" alt=\"Open In Colab\"/></a>"
      ]
    },
    {
      "cell_type": "code",
      "source": [
        "from ast import Num\n",
        "[ ] #CRIAR UMA LISTA COM numeros DE 1 A 15\n",
        "numeros= []\n",
        " for num in range (15)\n",
        "numeros.append(Num)\n",
        "numeros\n",
        "\n",
        "\n"
      ],
      "metadata": {
        "id": "MtcxiF59RuVV"
      },
      "execution_count": null,
      "outputs": []
    },
    {
      "cell_type": "code",
      "source": [
        "dobro = []\n",
        " for num in numeros:\n",
        " dobro.append(numeros[num]*2)\n",
        " dobro"
      ],
      "metadata": {
        "id": "JvrCqQRnVl_D"
      },
      "execution_count": null,
      "outputs": []
    },
    {
      "cell_type": "code",
      "source": [
        "[61] #Descobrir se um numero e par \n",
        "a = 8\n",
        "if a%2 == 0:\n",
        "  print(´E par)\n",
        "  else:\n",
        "    print(´E impar)"
      ],
      "metadata": {
        "id": "fNcMR14iXdfo"
      },
      "execution_count": null,
      "outputs": []
    },
    {
      "cell_type": "code",
      "source": [
        "for num in numeros:\n",
        "  if numeros[num]%2 == 0:\n",
        "    print(numeros[num])\n",
        "    "
      ],
      "metadata": {
        "id": "kHgg8E_IY6pf"
      },
      "execution_count": null,
      "outputs": []
    }
  ]
}